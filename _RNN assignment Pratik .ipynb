{
 "cells": [
  {
   "cell_type": "code",
   "execution_count": 1,
   "id": "42d3cba1",
   "metadata": {},
   "outputs": [],
   "source": [
    "import pandas as pd\n",
    "import numpy as np\n",
    "import matplotlib.pyplot as plt"
   ]
  },
  {
   "cell_type": "code",
   "execution_count": 2,
   "id": "eae2d9bd",
   "metadata": {},
   "outputs": [
    {
     "data": {
      "text/html": [
       "<div>\n",
       "<style scoped>\n",
       "    .dataframe tbody tr th:only-of-type {\n",
       "        vertical-align: middle;\n",
       "    }\n",
       "\n",
       "    .dataframe tbody tr th {\n",
       "        vertical-align: top;\n",
       "    }\n",
       "\n",
       "    .dataframe thead th {\n",
       "        text-align: right;\n",
       "    }\n",
       "</style>\n",
       "<table border=\"1\" class=\"dataframe\">\n",
       "  <thead>\n",
       "    <tr style=\"text-align: right;\">\n",
       "      <th></th>\n",
       "      <th>Revenue</th>\n",
       "      <th>Sales_quantity</th>\n",
       "      <th>Average_cost</th>\n",
       "      <th>The_average_annual_payroll_of_the_region</th>\n",
       "    </tr>\n",
       "    <tr>\n",
       "      <th>Period</th>\n",
       "      <th></th>\n",
       "      <th></th>\n",
       "      <th></th>\n",
       "      <th></th>\n",
       "    </tr>\n",
       "  </thead>\n",
       "  <tbody>\n",
       "    <tr>\n",
       "      <th>2015-01-01</th>\n",
       "      <td>16010072.12</td>\n",
       "      <td>12729</td>\n",
       "      <td>1257.763541</td>\n",
       "      <td>30024676</td>\n",
       "    </tr>\n",
       "    <tr>\n",
       "      <th>2015-01-02</th>\n",
       "      <td>15807587.45</td>\n",
       "      <td>11636</td>\n",
       "      <td>1358.507000</td>\n",
       "      <td>30024676</td>\n",
       "    </tr>\n",
       "    <tr>\n",
       "      <th>2015-01-03</th>\n",
       "      <td>22047146.02</td>\n",
       "      <td>15922</td>\n",
       "      <td>1384.697024</td>\n",
       "      <td>30024676</td>\n",
       "    </tr>\n",
       "    <tr>\n",
       "      <th>2015-01-04</th>\n",
       "      <td>18814583.29</td>\n",
       "      <td>15227</td>\n",
       "      <td>1235.606705</td>\n",
       "      <td>30024676</td>\n",
       "    </tr>\n",
       "    <tr>\n",
       "      <th>2015-01-05</th>\n",
       "      <td>14021479.61</td>\n",
       "      <td>8620</td>\n",
       "      <td>1626.621765</td>\n",
       "      <td>30024676</td>\n",
       "    </tr>\n",
       "    <tr>\n",
       "      <th>...</th>\n",
       "      <td>...</td>\n",
       "      <td>...</td>\n",
       "      <td>...</td>\n",
       "      <td>...</td>\n",
       "    </tr>\n",
       "    <tr>\n",
       "      <th>2019-01-12</th>\n",
       "      <td>58756473.66</td>\n",
       "      <td>38069</td>\n",
       "      <td>1543.420464</td>\n",
       "      <td>29878525</td>\n",
       "    </tr>\n",
       "    <tr>\n",
       "      <th>2020-01-01</th>\n",
       "      <td>56288300.87</td>\n",
       "      <td>27184</td>\n",
       "      <td>2070.640850</td>\n",
       "      <td>29044998</td>\n",
       "    </tr>\n",
       "    <tr>\n",
       "      <th>2020-01-02</th>\n",
       "      <td>40225243.26</td>\n",
       "      <td>23509</td>\n",
       "      <td>1711.057181</td>\n",
       "      <td>29044998</td>\n",
       "    </tr>\n",
       "    <tr>\n",
       "      <th>2020-01-03</th>\n",
       "      <td>50022165.23</td>\n",
       "      <td>32569</td>\n",
       "      <td>1535.882748</td>\n",
       "      <td>29044998</td>\n",
       "    </tr>\n",
       "    <tr>\n",
       "      <th>2020-01-04</th>\n",
       "      <td>52320692.94</td>\n",
       "      <td>26615</td>\n",
       "      <td>1965.834790</td>\n",
       "      <td>29044998</td>\n",
       "    </tr>\n",
       "  </tbody>\n",
       "</table>\n",
       "<p>64 rows × 4 columns</p>\n",
       "</div>"
      ],
      "text/plain": [
       "                Revenue  Sales_quantity  Average_cost  \\\n",
       "Period                                                  \n",
       "2015-01-01  16010072.12           12729   1257.763541   \n",
       "2015-01-02  15807587.45           11636   1358.507000   \n",
       "2015-01-03  22047146.02           15922   1384.697024   \n",
       "2015-01-04  18814583.29           15227   1235.606705   \n",
       "2015-01-05  14021479.61            8620   1626.621765   \n",
       "...                 ...             ...           ...   \n",
       "2019-01-12  58756473.66           38069   1543.420464   \n",
       "2020-01-01  56288300.87           27184   2070.640850   \n",
       "2020-01-02  40225243.26           23509   1711.057181   \n",
       "2020-01-03  50022165.23           32569   1535.882748   \n",
       "2020-01-04  52320692.94           26615   1965.834790   \n",
       "\n",
       "            The_average_annual_payroll_of_the_region  \n",
       "Period                                                \n",
       "2015-01-01                                  30024676  \n",
       "2015-01-02                                  30024676  \n",
       "2015-01-03                                  30024676  \n",
       "2015-01-04                                  30024676  \n",
       "2015-01-05                                  30024676  \n",
       "...                                              ...  \n",
       "2019-01-12                                  29878525  \n",
       "2020-01-01                                  29044998  \n",
       "2020-01-02                                  29044998  \n",
       "2020-01-03                                  29044998  \n",
       "2020-01-04                                  29044998  \n",
       "\n",
       "[64 rows x 4 columns]"
      ]
     },
     "execution_count": 2,
     "metadata": {},
     "output_type": "execute_result"
    }
   ],
   "source": [
    "sales=pd.read_csv(\"E:\\Data science training\\R AND PYTHON KPMG\\stat and ml\\ASSIGNMENT\\Dharma Initiative Sales Data.csv\",index_col='Period',parse_dates=True)\n",
    "sales\n"
   ]
  },
  {
   "cell_type": "code",
   "execution_count": 3,
   "id": "f65e6d53",
   "metadata": {},
   "outputs": [],
   "source": [
    "sales1=sales.drop(columns=['Revenue','Average_cost','The_average_annual_payroll_of_the_region'])"
   ]
  },
  {
   "cell_type": "code",
   "execution_count": 4,
   "id": "d14ce1a2",
   "metadata": {},
   "outputs": [
    {
     "data": {
      "text/html": [
       "<div>\n",
       "<style scoped>\n",
       "    .dataframe tbody tr th:only-of-type {\n",
       "        vertical-align: middle;\n",
       "    }\n",
       "\n",
       "    .dataframe tbody tr th {\n",
       "        vertical-align: top;\n",
       "    }\n",
       "\n",
       "    .dataframe thead th {\n",
       "        text-align: right;\n",
       "    }\n",
       "</style>\n",
       "<table border=\"1\" class=\"dataframe\">\n",
       "  <thead>\n",
       "    <tr style=\"text-align: right;\">\n",
       "      <th></th>\n",
       "      <th>Sales_quantity</th>\n",
       "    </tr>\n",
       "    <tr>\n",
       "      <th>Period</th>\n",
       "      <th></th>\n",
       "    </tr>\n",
       "  </thead>\n",
       "  <tbody>\n",
       "    <tr>\n",
       "      <th>2015-01-01</th>\n",
       "      <td>12729</td>\n",
       "    </tr>\n",
       "    <tr>\n",
       "      <th>2015-01-02</th>\n",
       "      <td>11636</td>\n",
       "    </tr>\n",
       "    <tr>\n",
       "      <th>2015-01-03</th>\n",
       "      <td>15922</td>\n",
       "    </tr>\n",
       "    <tr>\n",
       "      <th>2015-01-04</th>\n",
       "      <td>15227</td>\n",
       "    </tr>\n",
       "    <tr>\n",
       "      <th>2015-01-05</th>\n",
       "      <td>8620</td>\n",
       "    </tr>\n",
       "  </tbody>\n",
       "</table>\n",
       "</div>"
      ],
      "text/plain": [
       "            Sales_quantity\n",
       "Period                    \n",
       "2015-01-01           12729\n",
       "2015-01-02           11636\n",
       "2015-01-03           15922\n",
       "2015-01-04           15227\n",
       "2015-01-05            8620"
      ]
     },
     "execution_count": 4,
     "metadata": {},
     "output_type": "execute_result"
    }
   ],
   "source": [
    "sales1.head()"
   ]
  },
  {
   "cell_type": "code",
   "execution_count": 5,
   "id": "e3ef22d1",
   "metadata": {},
   "outputs": [
    {
     "data": {
      "text/plain": [
       "<AxesSubplot:xlabel='Period'>"
      ]
     },
     "execution_count": 5,
     "metadata": {},
     "output_type": "execute_result"
    },
    {
     "data": {
      "image/png": "[encoded data removed]",
      "text/plain": [
       "<Figure size 720x576 with 1 Axes>"
      ]
     },
     "metadata": {
      "needs_background": "light"
     },
     "output_type": "display_data"
    }
   ],
   "source": [
    "sales1.plot(figsize=(10,8))"
   ]
  },
  {
   "cell_type": "code",
   "execution_count": 6,
   "id": "3f4161fc",
   "metadata": {},
   "outputs": [
    {
     "data": {
      "text/plain": [
       "64"
      ]
     },
     "execution_count": 6,
     "metadata": {},
     "output_type": "execute_result"
    }
   ],
   "source": [
    "len(sales1)"
   ]
  },
  {
   "cell_type": "code",
   "execution_count": 7,
   "id": "302d89fc",
   "metadata": {},
   "outputs": [],
   "source": [
    "train = sales1.iloc[:54]\n",
    "test = sales1.iloc[54:]"
   ]
  },
  {
   "cell_type": "code",
   "execution_count": 8,
   "id": "2b18c39f",
   "metadata": {},
   "outputs": [],
   "source": [
    "#Normalization of data\n",
    "from sklearn.preprocessing import MinMaxScaler"
   ]
  },
  {
   "cell_type": "code",
   "execution_count": 9,
   "id": "7711dd15",
   "metadata": {},
   "outputs": [],
   "source": [
    "scaler = MinMaxScaler()\n",
    "train_scaled = scaler.fit_transform(train)\n",
    "test_scaled = scaler.fit_transform(test)"
   ]
  },
  {
   "cell_type": "code",
   "execution_count": 10,
   "id": "4fb96e4b",
   "metadata": {},
   "outputs": [
    {
     "data": {
      "text/plain": [
       "array([[0.31669346],\n",
       "       [0.        ],\n",
       "       [0.37321262],\n",
       "       [0.51493358],\n",
       "       [0.31965479],\n",
       "       [1.        ],\n",
       "       [0.53951265],\n",
       "       [0.38404264],\n",
       "       [0.7673238 ],\n",
       "       [0.51544124]])"
      ]
     },
     "execution_count": 10,
     "metadata": {},
     "output_type": "execute_result"
    }
   ],
   "source": [
    "test_scaled"
   ]
  },
  {
   "cell_type": "code",
   "execution_count": 11,
   "id": "21ae7ced",
   "metadata": {},
   "outputs": [],
   "source": [
    "from keras.preprocessing.sequence import TimeseriesGenerator"
   ]
  },
  {
   "cell_type": "code",
   "execution_count": 12,
   "id": "c04529e7",
   "metadata": {},
   "outputs": [],
   "source": [
    "#We will take 6 values to predict the time series data\n",
    "n_input = 6\n",
    "generator = TimeseriesGenerator(train_scaled,train_scaled,length = n_input,batch_size=1)"
   ]
  },
  {
   "cell_type": "code",
   "execution_count": 13,
   "id": "7017ae25",
   "metadata": {},
   "outputs": [
    {
     "data": {
      "text/plain": [
       "array([[0.17614203],\n",
       "       [0.13253541],\n",
       "       [0.30353082],\n",
       "       [0.27580291],\n",
       "       [0.01220826],\n",
       "       [0.19333732]])"
      ]
     },
     "execution_count": 13,
     "metadata": {},
     "output_type": "execute_result"
    }
   ],
   "source": [
    "train_scaled[:6]"
   ]
  },
  {
   "cell_type": "code",
   "execution_count": 14,
   "id": "41dbd5fa",
   "metadata": {},
   "outputs": [
    {
     "data": {
      "text/plain": [
       "(array([[[0.13253541],\n",
       "         [0.30353082],\n",
       "         [0.27580291],\n",
       "         [0.01220826],\n",
       "         [0.19333732],\n",
       "         [0.35667265]]]),\n",
       " array([[0.01308598]]))"
      ]
     },
     "execution_count": 14,
     "metadata": {},
     "output_type": "execute_result"
    }
   ],
   "source": [
    "generator[1]"
   ]
  },
  {
   "cell_type": "code",
   "execution_count": 15,
   "id": "de915a11",
   "metadata": {},
   "outputs": [
    {
     "data": {
      "text/plain": [
       "48"
      ]
     },
     "execution_count": 15,
     "metadata": {},
     "output_type": "execute_result"
    }
   ],
   "source": [
    "len(generator)"
   ]
  },
  {
   "cell_type": "code",
   "execution_count": 16,
   "id": "6d6cbc83",
   "metadata": {},
   "outputs": [],
   "source": [
    "from keras.models import Sequential\n",
    "from keras.layers import Dense\n",
    "from keras.layers import LSTM"
   ]
  },
  {
   "cell_type": "markdown",
   "id": "2a66afd8",
   "metadata": {},
   "source": [
    "# Initializing the RNN"
   ]
  },
  {
   "cell_type": "code",
   "execution_count": 17,
   "id": "1250ac5f",
   "metadata": {},
   "outputs": [],
   "source": [
    "# Defining the model\n",
    "rnn = Sequential()"
   ]
  },
  {
   "cell_type": "markdown",
   "id": "54d8f5c4",
   "metadata": {},
   "source": [
    "# Adding input and hidden layers"
   ]
  },
  {
   "cell_type": "code",
   "execution_count": 18,
   "id": "9995ea66",
   "metadata": {},
   "outputs": [],
   "source": [
    "rnn.add(LSTM(units=100,activation='relu',input_shape=(n_input,1)))"
   ]
  },
  {
   "cell_type": "markdown",
   "id": "9b20a25a",
   "metadata": {},
   "source": [
    "# Output Layers"
   ]
  },
  {
   "cell_type": "code",
   "execution_count": 19,
   "id": "410df531",
   "metadata": {},
   "outputs": [],
   "source": [
    "rnn.add(Dense(units=1))"
   ]
  },
  {
   "cell_type": "markdown",
   "id": "6210ad68",
   "metadata": {},
   "source": [
    "# Compiling the model"
   ]
  },
  {
   "cell_type": "code",
   "execution_count": 20,
   "id": "4aeddbaf",
   "metadata": {},
   "outputs": [],
   "source": [
    "rnn.compile(optimizer='adam',loss='mse')"
   ]
  },
  {
   "cell_type": "markdown",
   "id": "48facbd6",
   "metadata": {},
   "source": [
    "# Fitting the model"
   ]
  },
  {
   "cell_type": "code",
   "execution_count": 21,
   "id": "c4bcec79",
   "metadata": {},
   "outputs": [
    {
     "name": "stdout",
     "output_type": "stream",
     "text": [
      "Epoch 1/50\n",
      "48/48 [==============================] - 4s 11ms/step - loss: 0.0874\n",
      "Epoch 2/50\n",
      "48/48 [==============================] - 0s 6ms/step - loss: 0.0488\n",
      "Epoch 3/50\n",
      "48/48 [==============================] - 0s 6ms/step - loss: 0.0494\n",
      "Epoch 4/50\n",
      "48/48 [==============================] - 0s 5ms/step - loss: 0.0474\n",
      "Epoch 5/50\n",
      "48/48 [==============================] - 0s 6ms/step - loss: 0.0493\n",
      "Epoch 6/50\n",
      "48/48 [==============================] - 0s 5ms/step - loss: 0.0514\n",
      "Epoch 7/50\n",
      "48/48 [==============================] - 0s 5ms/step - loss: 0.0467\n",
      "Epoch 8/50\n",
      "48/48 [==============================] - 0s 6ms/step - loss: 0.0511\n",
      "Epoch 9/50\n",
      "48/48 [==============================] - 0s 6ms/step - loss: 0.0490\n",
      "Epoch 10/50\n",
      "48/48 [==============================] - 0s 5ms/step - loss: 0.0472\n",
      "Epoch 11/50\n",
      "48/48 [==============================] - 0s 5ms/step - loss: 0.0462\n",
      "Epoch 12/50\n",
      "48/48 [==============================] - 0s 5ms/step - loss: 0.0464\n",
      "Epoch 13/50\n",
      "48/48 [==============================] - 0s 5ms/step - loss: 0.0465\n",
      "Epoch 14/50\n",
      "48/48 [==============================] - 0s 5ms/step - loss: 0.0487\n",
      "Epoch 15/50\n",
      "48/48 [==============================] - 0s 6ms/step - loss: 0.0462\n",
      "Epoch 16/50\n",
      "48/48 [==============================] - 0s 6ms/step - loss: 0.0455\n",
      "Epoch 17/50\n",
      "48/48 [==============================] - 0s 5ms/step - loss: 0.0502\n",
      "Epoch 18/50\n",
      "48/48 [==============================] - 0s 6ms/step - loss: 0.0457\n",
      "Epoch 19/50\n",
      "48/48 [==============================] - 0s 5ms/step - loss: 0.0455\n",
      "Epoch 20/50\n",
      "48/48 [==============================] - 0s 5ms/step - loss: 0.0459\n",
      "Epoch 21/50\n",
      "48/48 [==============================] - 0s 5ms/step - loss: 0.0477\n",
      "Epoch 22/50\n",
      "48/48 [==============================] - 0s 5ms/step - loss: 0.0443\n",
      "Epoch 23/50\n",
      "48/48 [==============================] - 0s 5ms/step - loss: 0.0429\n",
      "Epoch 24/50\n",
      "48/48 [==============================] - 0s 5ms/step - loss: 0.0496\n",
      "Epoch 25/50\n",
      "48/48 [==============================] - 0s 5ms/step - loss: 0.0433\n",
      "Epoch 26/50\n",
      "48/48 [==============================] - 0s 6ms/step - loss: 0.0464\n",
      "Epoch 27/50\n",
      "48/48 [==============================] - 0s 6ms/step - loss: 0.0427\n",
      "Epoch 28/50\n",
      "48/48 [==============================] - 0s 5ms/step - loss: 0.0421\n",
      "Epoch 29/50\n",
      "48/48 [==============================] - 0s 5ms/step - loss: 0.0443\n",
      "Epoch 30/50\n",
      "48/48 [==============================] - 0s 5ms/step - loss: 0.0451\n",
      "Epoch 31/50\n",
      "48/48 [==============================] - 0s 5ms/step - loss: 0.0429\n",
      "Epoch 32/50\n",
      "48/48 [==============================] - 0s 5ms/step - loss: 0.0437\n",
      "Epoch 33/50\n",
      "48/48 [==============================] - 0s 5ms/step - loss: 0.0404\n",
      "Epoch 34/50\n",
      "48/48 [==============================] - 0s 5ms/step - loss: 0.0416\n",
      "Epoch 35/50\n",
      "48/48 [==============================] - 0s 6ms/step - loss: 0.0419\n",
      "Epoch 36/50\n",
      "48/48 [==============================] - 0s 5ms/step - loss: 0.0413\n",
      "Epoch 37/50\n",
      "48/48 [==============================] - 0s 5ms/step - loss: 0.0417\n",
      "Epoch 38/50\n",
      "48/48 [==============================] - 0s 5ms/step - loss: 0.0405\n",
      "Epoch 39/50\n",
      "48/48 [==============================] - 0s 5ms/step - loss: 0.0390\n",
      "Epoch 40/50\n",
      "48/48 [==============================] - 0s 5ms/step - loss: 0.0401\n",
      "Epoch 41/50\n",
      "48/48 [==============================] - 0s 5ms/step - loss: 0.0388\n",
      "Epoch 42/50\n",
      "48/48 [==============================] - 0s 5ms/step - loss: 0.0424\n",
      "Epoch 43/50\n",
      "48/48 [==============================] - 0s 5ms/step - loss: 0.0383\n",
      "Epoch 44/50\n",
      "48/48 [==============================] - 0s 5ms/step - loss: 0.0367\n",
      "Epoch 45/50\n",
      "48/48 [==============================] - 0s 5ms/step - loss: 0.0370\n",
      "Epoch 46/50\n",
      "48/48 [==============================] - 0s 5ms/step - loss: 0.0375\n",
      "Epoch 47/50\n",
      "48/48 [==============================] - 0s 5ms/step - loss: 0.0376\n",
      "Epoch 48/50\n",
      "48/48 [==============================] - 0s 5ms/step - loss: 0.0341\n",
      "Epoch 49/50\n",
      "48/48 [==============================] - 0s 5ms/step - loss: 0.0334\n",
      "Epoch 50/50\n",
      "48/48 [==============================] - 0s 5ms/step - loss: 0.0324\n"
     ]
    },
    {
     "data": {
      "text/plain": [
       "<keras.callbacks.History at 0x246ef464b80>"
      ]
     },
     "execution_count": 21,
     "metadata": {},
     "output_type": "execute_result"
    }
   ],
   "source": [
    "rnn.fit(generator,epochs=50)"
   ]
  },
  {
   "cell_type": "code",
   "execution_count": 22,
   "id": "eac63d3f",
   "metadata": {},
   "outputs": [
    {
     "data": {
      "text/plain": [
       "array([[0.31669346],\n",
       "       [0.        ],\n",
       "       [0.37321262],\n",
       "       [0.51493358],\n",
       "       [0.31965479],\n",
       "       [1.        ],\n",
       "       [0.53951265],\n",
       "       [0.38404264],\n",
       "       [0.7673238 ],\n",
       "       [0.51544124]])"
      ]
     },
     "execution_count": 22,
     "metadata": {},
     "output_type": "execute_result"
    }
   ],
   "source": [
    "test_scaled"
   ]
  },
  {
   "cell_type": "code",
   "execution_count": 23,
   "id": "79dad1cf",
   "metadata": {},
   "outputs": [
    {
     "data": {
      "text/plain": [
       "array([[0.62964293],\n",
       "       [0.53101935],\n",
       "       [1.        ],\n",
       "       [0.55659286],\n",
       "       [0.34522242],\n",
       "       [0.66403351]])"
      ]
     },
     "execution_count": 23,
     "metadata": {},
     "output_type": "execute_result"
    }
   ],
   "source": [
    "train_scaled[-6:]"
   ]
  },
  {
   "cell_type": "code",
   "execution_count": 24,
   "id": "dcca7edd",
   "metadata": {},
   "outputs": [],
   "source": [
    "predict_train = train_scaled[-6:]"
   ]
  },
  {
   "cell_type": "code",
   "execution_count": 25,
   "id": "924b5ec9",
   "metadata": {},
   "outputs": [],
   "source": [
    "predict_train = predict_train.reshape(1,n_input,1)"
   ]
  },
  {
   "cell_type": "code",
   "execution_count": 26,
   "id": "9efa7fea",
   "metadata": {},
   "outputs": [
    {
     "data": {
      "text/plain": [
       "(1, 6, 1)"
      ]
     },
     "execution_count": 26,
     "metadata": {},
     "output_type": "execute_result"
    }
   ],
   "source": [
    "predict_train.shape"
   ]
  },
  {
   "cell_type": "code",
   "execution_count": 27,
   "id": "b8d8ad39",
   "metadata": {},
   "outputs": [
    {
     "data": {
      "text/plain": [
       "array([[0.49272814]], dtype=float32)"
      ]
     },
     "execution_count": 27,
     "metadata": {},
     "output_type": "execute_result"
    }
   ],
   "source": [
    "rnn.predict(predict_train)"
   ]
  },
  {
   "cell_type": "code",
   "execution_count": 28,
   "id": "6c2f12b1",
   "metadata": {},
   "outputs": [
    {
     "data": {
      "text/plain": [
       "array([0.31669346])"
      ]
     },
     "execution_count": 28,
     "metadata": {},
     "output_type": "execute_result"
    }
   ],
   "source": [
    "test_scaled[0]"
   ]
  },
  {
   "cell_type": "code",
   "execution_count": null,
   "id": "c7cdb4e1",
   "metadata": {},
   "outputs": [],
   "source": []
  }
 ],
 "metadata": {
  "kernelspec": {
   "display_name": "Python 3 (ipykernel)",
   "language": "python",
   "name": "python3"
  },
  "language_info": {
   "codemirror_mode": {
    "name": "ipython",
    "version": 3
   },
   "file_extension": ".py",
   "mimetype": "text/x-python",
   "name": "python",
   "nbconvert_exporter": "python",
   "pygments_lexer": "ipython3",
   "version": "3.9.7"
  }
 },
 "nbformat": 4,
 "nbformat_minor": 5
}
